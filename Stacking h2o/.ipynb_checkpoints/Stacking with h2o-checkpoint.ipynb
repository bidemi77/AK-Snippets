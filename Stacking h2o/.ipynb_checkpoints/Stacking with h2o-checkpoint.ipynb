{
 "cells": [
  {
   "cell_type": "markdown",
   "metadata": {},
   "source": [
    "# Stacking\n",
    "#### Alan Kessler\n",
    "\n",
    "\n",
    "## Background\n",
    "\n",
    "I came across a paper from SAS, [Stacked Ensemble Models for Improved Prediction Accuracy](http://support.sas.com/resources/papers/proceedings17/SAS0437-2017.pdf), that seemed interesting. Lacking SAS Viya, I attempt to try other methods of generating strong predictions using Python and **h2o** using the same data."
   ]
  },
  {
   "cell_type": "code",
   "execution_count": 1,
   "metadata": {
    "collapsed": false
   },
   "outputs": [
    {
     "name": "stdout",
     "output_type": "stream",
     "text": [
      "Checking whether there is an H2O instance running at http://localhost:54321..... not found.\n",
      "Attempting to start a local H2O server...\n",
      "  Java Version: java version \"1.8.0_151\"; Java(TM) SE Runtime Environment (build 1.8.0_151-b12); Java HotSpot(TM) 64-Bit Server VM (build 25.151-b12, mixed mode)\n",
      "  Starting server from /Users/alankessler/anaconda/envs/drei/lib/python3.5/site-packages/h2o/backend/bin/h2o.jar\n",
      "  Ice root: /var/folders/d5/9wnj9njn45xfkqxg5wjzyv0c0000gn/T/tmpa77dxmpl\n",
      "  JVM stdout: /var/folders/d5/9wnj9njn45xfkqxg5wjzyv0c0000gn/T/tmpa77dxmpl/h2o_alankessler_started_from_python.out\n",
      "  JVM stderr: /var/folders/d5/9wnj9njn45xfkqxg5wjzyv0c0000gn/T/tmpa77dxmpl/h2o_alankessler_started_from_python.err\n",
      "  Server is running at http://127.0.0.1:54321\n",
      "Connecting to H2O server at http://127.0.0.1:54321... successful.\n"
     ]
    },
    {
     "data": {
      "text/html": [
       "<div style=\"overflow:auto\"><table style=\"width:50%\"><tr><td>H2O cluster uptime:</td>\n",
       "<td>03 secs</td></tr>\n",
       "<tr><td>H2O cluster version:</td>\n",
       "<td>3.16.0.2</td></tr>\n",
       "<tr><td>H2O cluster version age:</td>\n",
       "<td>1 month and 1 day </td></tr>\n",
       "<tr><td>H2O cluster name:</td>\n",
       "<td>H2O_from_python_alankessler_k184ko</td></tr>\n",
       "<tr><td>H2O cluster total nodes:</td>\n",
       "<td>1</td></tr>\n",
       "<tr><td>H2O cluster free memory:</td>\n",
       "<td>1.778 Gb</td></tr>\n",
       "<tr><td>H2O cluster total cores:</td>\n",
       "<td>4</td></tr>\n",
       "<tr><td>H2O cluster allowed cores:</td>\n",
       "<td>4</td></tr>\n",
       "<tr><td>H2O cluster status:</td>\n",
       "<td>accepting new members, healthy</td></tr>\n",
       "<tr><td>H2O connection url:</td>\n",
       "<td>http://127.0.0.1:54321</td></tr>\n",
       "<tr><td>H2O connection proxy:</td>\n",
       "<td>None</td></tr>\n",
       "<tr><td>H2O internal security:</td>\n",
       "<td>False</td></tr>\n",
       "<tr><td>H2O API Extensions:</td>\n",
       "<td>XGBoost, Algos, AutoML, Core V3, Core V4</td></tr>\n",
       "<tr><td>Python version:</td>\n",
       "<td>3.5.2 final</td></tr></table></div>"
      ],
      "text/plain": [
       "--------------------------  ----------------------------------------\n",
       "H2O cluster uptime:         03 secs\n",
       "H2O cluster version:        3.16.0.2\n",
       "H2O cluster version age:    1 month and 1 day\n",
       "H2O cluster name:           H2O_from_python_alankessler_k184ko\n",
       "H2O cluster total nodes:    1\n",
       "H2O cluster free memory:    1.778 Gb\n",
       "H2O cluster total cores:    4\n",
       "H2O cluster allowed cores:  4\n",
       "H2O cluster status:         accepting new members, healthy\n",
       "H2O connection url:         http://127.0.0.1:54321\n",
       "H2O connection proxy:\n",
       "H2O internal security:      False\n",
       "H2O API Extensions:         XGBoost, Algos, AutoML, Core V3, Core V4\n",
       "Python version:             3.5.2 final\n",
       "--------------------------  ----------------------------------------"
      ]
     },
     "metadata": {},
     "output_type": "display_data"
    }
   ],
   "source": [
    "import pandas as pd\n",
    "from pandas.api.types import is_string_dtype\n",
    "import numpy as np\n",
    "from IPython.display import display\n",
    "import matplotlib.pyplot as plt\n",
    "import seaborn as sns\n",
    "\n",
    "from sklearn import linear_model\n",
    "from sklearn.model_selection import KFold\n",
    "from sklearn.model_selection import cross_val_predict\n",
    "from sklearn import metrics\n",
    "\n",
    "import h2o\n",
    "h2o.init()\n",
    "from h2o.estimators.glm import H2OGeneralizedLinearEstimator\n",
    "from h2o.estimators.random_forest import H2ORandomForestEstimator\n",
    "from h2o.estimators.gbm import H2OGradientBoostingEstimator\n",
    "from h2o.estimators.naive_bayes import H2ONaiveBayesEstimator\n",
    "from h2o.estimators.stackedensemble import H2OStackedEnsembleEstimator\n",
    "from h2o.automl import H2OAutoML\n",
    "from h2o.grid.grid_search import H2OGridSearch"
   ]
  },
  {
   "cell_type": "markdown",
   "metadata": {},
   "source": [
    "## Data\n",
    "\n",
    "### Load Data\n",
    "\n",
    "Like in the SAS paper, the data is from the [UCI Machine Learning Repository](http://archive.ics.uci.edu/ml/datasets/Adult). The goal is to determine, using census data, if income exceeds $50K/yr.\n",
    "\n",
    "I first download both the training and testing data."
   ]
  },
  {
   "cell_type": "code",
   "execution_count": 2,
   "metadata": {
    "collapsed": true
   },
   "outputs": [],
   "source": [
    "url = \"http://archive.ics.uci.edu/ml/machine-learning-databases/adult/adult.\"\n",
    "\n",
    "names = [\"age\", \"workclass\", \"fnlwgt\", \"education\", \"education.num\",\n",
    "         \"marital.status\", \"occupation\", \"relationship\", \"race\", \"sex\",\n",
    "         \"capital.gain\", \"capital.loss\", \"hours.per.week\", \"native.country\",\n",
    "         \"income\"]\n",
    "\n",
    "data = pd.read_csv(url+\"data\", names=names)\n",
    "test = pd.read_csv(url+\"test\", names=names, skiprows=1)"
   ]
  },
  {
   "cell_type": "markdown",
   "metadata": {},
   "source": [
    "I create a separate variable for the numeric target and drop **`income`** as a result. I am also not considering `education` due to the precense of **`education_num`**. Adding **`id`** as some of the transformations change the order and index of the data, making checks for reasonableness more difficult."
   ]
  },
  {
   "cell_type": "code",
   "execution_count": 3,
   "metadata": {
    "collapsed": true
   },
   "outputs": [],
   "source": [
    "data['target'] = np.where(data['income'] == \" <=50K\", 1, 0)\n",
    "data.drop(['education', 'income'], axis=1, inplace=True)\n",
    "data['id'] = range(1, data.shape[0]+1)\n",
    "\n",
    "test['target'] = np.where(test['income'] == \" <=50K.\", 1, 0)\n",
    "test.drop(['education', 'income'], axis=1, inplace=True)\n",
    "test['id'] = range(1, test.shape[0]+1)"
   ]
  },
  {
   "cell_type": "markdown",
   "metadata": {},
   "source": [
    "### Group Nominal Variables\n",
    "\n",
    "Some of the nominal variables are relatively rare and warrant grouping to reduce cardinality. As in the SAS paper, I identify levels with less than 2% of training observations. "
   ]
  },
  {
   "cell_type": "code",
   "execution_count": 4,
   "metadata": {
    "collapsed": false,
    "scrolled": true
   },
   "outputs": [
    {
     "data": {
      "text/html": [
       "<div>\n",
       "<table border=\"1\" class=\"dataframe\">\n",
       "  <thead>\n",
       "    <tr style=\"text-align: right;\">\n",
       "      <th></th>\n",
       "      <th>Count</th>\n",
       "      <th>Percent</th>\n",
       "      <th>Target</th>\n",
       "    </tr>\n",
       "    <tr>\n",
       "      <th>workclass</th>\n",
       "      <th></th>\n",
       "      <th></th>\n",
       "      <th></th>\n",
       "    </tr>\n",
       "  </thead>\n",
       "  <tbody>\n",
       "    <tr>\n",
       "      <th>Private</th>\n",
       "      <td>22696</td>\n",
       "      <td>69.70</td>\n",
       "      <td>0.78</td>\n",
       "    </tr>\n",
       "    <tr>\n",
       "      <th>Self-emp-not-inc</th>\n",
       "      <td>2541</td>\n",
       "      <td>7.80</td>\n",
       "      <td>0.72</td>\n",
       "    </tr>\n",
       "    <tr>\n",
       "      <th>Local-gov</th>\n",
       "      <td>2093</td>\n",
       "      <td>6.43</td>\n",
       "      <td>0.71</td>\n",
       "    </tr>\n",
       "    <tr>\n",
       "      <th>?</th>\n",
       "      <td>1836</td>\n",
       "      <td>5.64</td>\n",
       "      <td>0.90</td>\n",
       "    </tr>\n",
       "    <tr>\n",
       "      <th>State-gov</th>\n",
       "      <td>1298</td>\n",
       "      <td>3.99</td>\n",
       "      <td>0.73</td>\n",
       "    </tr>\n",
       "    <tr>\n",
       "      <th>Self-emp-inc</th>\n",
       "      <td>1116</td>\n",
       "      <td>3.43</td>\n",
       "      <td>0.44</td>\n",
       "    </tr>\n",
       "    <tr>\n",
       "      <th>Federal-gov</th>\n",
       "      <td>960</td>\n",
       "      <td>2.95</td>\n",
       "      <td>0.61</td>\n",
       "    </tr>\n",
       "    <tr>\n",
       "      <th>Without-pay</th>\n",
       "      <td>14</td>\n",
       "      <td>0.04</td>\n",
       "      <td>1.00</td>\n",
       "    </tr>\n",
       "    <tr>\n",
       "      <th>Never-worked</th>\n",
       "      <td>7</td>\n",
       "      <td>0.02</td>\n",
       "      <td>1.00</td>\n",
       "    </tr>\n",
       "  </tbody>\n",
       "</table>\n",
       "</div>"
      ],
      "text/plain": [
       "                   Count  Percent  Target\n",
       "workclass                                \n",
       " Private           22696    69.70    0.78\n",
       " Self-emp-not-inc   2541     7.80    0.72\n",
       " Local-gov          2093     6.43    0.71\n",
       " ?                  1836     5.64    0.90\n",
       " State-gov          1298     3.99    0.73\n",
       " Self-emp-inc       1116     3.43    0.44\n",
       " Federal-gov         960     2.95    0.61\n",
       " Without-pay          14     0.04    1.00\n",
       " Never-worked          7     0.02    1.00"
      ]
     },
     "metadata": {},
     "output_type": "display_data"
    },
    {
     "data": {
      "text/html": [
       "<div>\n",
       "<table border=\"1\" class=\"dataframe\">\n",
       "  <thead>\n",
       "    <tr style=\"text-align: right;\">\n",
       "      <th></th>\n",
       "      <th>Count</th>\n",
       "      <th>Percent</th>\n",
       "      <th>Target</th>\n",
       "    </tr>\n",
       "    <tr>\n",
       "      <th>marital.status</th>\n",
       "      <th></th>\n",
       "      <th></th>\n",
       "      <th></th>\n",
       "    </tr>\n",
       "  </thead>\n",
       "  <tbody>\n",
       "    <tr>\n",
       "      <th>Married-civ-spouse</th>\n",
       "      <td>14976</td>\n",
       "      <td>45.99</td>\n",
       "      <td>0.55</td>\n",
       "    </tr>\n",
       "    <tr>\n",
       "      <th>Never-married</th>\n",
       "      <td>10683</td>\n",
       "      <td>32.81</td>\n",
       "      <td>0.95</td>\n",
       "    </tr>\n",
       "    <tr>\n",
       "      <th>Divorced</th>\n",
       "      <td>4443</td>\n",
       "      <td>13.65</td>\n",
       "      <td>0.90</td>\n",
       "    </tr>\n",
       "    <tr>\n",
       "      <th>Separated</th>\n",
       "      <td>1025</td>\n",
       "      <td>3.15</td>\n",
       "      <td>0.94</td>\n",
       "    </tr>\n",
       "    <tr>\n",
       "      <th>Widowed</th>\n",
       "      <td>993</td>\n",
       "      <td>3.05</td>\n",
       "      <td>0.91</td>\n",
       "    </tr>\n",
       "    <tr>\n",
       "      <th>Married-spouse-absent</th>\n",
       "      <td>418</td>\n",
       "      <td>1.28</td>\n",
       "      <td>0.92</td>\n",
       "    </tr>\n",
       "    <tr>\n",
       "      <th>Married-AF-spouse</th>\n",
       "      <td>23</td>\n",
       "      <td>0.07</td>\n",
       "      <td>0.57</td>\n",
       "    </tr>\n",
       "  </tbody>\n",
       "</table>\n",
       "</div>"
      ],
      "text/plain": [
       "                        Count  Percent  Target\n",
       "marital.status                                \n",
       " Married-civ-spouse     14976    45.99    0.55\n",
       " Never-married          10683    32.81    0.95\n",
       " Divorced                4443    13.65    0.90\n",
       " Separated               1025     3.15    0.94\n",
       " Widowed                  993     3.05    0.91\n",
       " Married-spouse-absent    418     1.28    0.92\n",
       " Married-AF-spouse         23     0.07    0.57"
      ]
     },
     "metadata": {},
     "output_type": "display_data"
    },
    {
     "data": {
      "text/html": [
       "<div>\n",
       "<table border=\"1\" class=\"dataframe\">\n",
       "  <thead>\n",
       "    <tr style=\"text-align: right;\">\n",
       "      <th></th>\n",
       "      <th>Count</th>\n",
       "      <th>Percent</th>\n",
       "      <th>Target</th>\n",
       "    </tr>\n",
       "    <tr>\n",
       "      <th>occupation</th>\n",
       "      <th></th>\n",
       "      <th></th>\n",
       "      <th></th>\n",
       "    </tr>\n",
       "  </thead>\n",
       "  <tbody>\n",
       "    <tr>\n",
       "      <th>Prof-specialty</th>\n",
       "      <td>4140</td>\n",
       "      <td>12.71</td>\n",
       "      <td>0.55</td>\n",
       "    </tr>\n",
       "    <tr>\n",
       "      <th>Craft-repair</th>\n",
       "      <td>4099</td>\n",
       "      <td>12.59</td>\n",
       "      <td>0.77</td>\n",
       "    </tr>\n",
       "    <tr>\n",
       "      <th>Exec-managerial</th>\n",
       "      <td>4066</td>\n",
       "      <td>12.49</td>\n",
       "      <td>0.52</td>\n",
       "    </tr>\n",
       "    <tr>\n",
       "      <th>Adm-clerical</th>\n",
       "      <td>3770</td>\n",
       "      <td>11.58</td>\n",
       "      <td>0.87</td>\n",
       "    </tr>\n",
       "    <tr>\n",
       "      <th>Sales</th>\n",
       "      <td>3650</td>\n",
       "      <td>11.21</td>\n",
       "      <td>0.73</td>\n",
       "    </tr>\n",
       "    <tr>\n",
       "      <th>Other-service</th>\n",
       "      <td>3295</td>\n",
       "      <td>10.12</td>\n",
       "      <td>0.96</td>\n",
       "    </tr>\n",
       "    <tr>\n",
       "      <th>Machine-op-inspct</th>\n",
       "      <td>2002</td>\n",
       "      <td>6.15</td>\n",
       "      <td>0.88</td>\n",
       "    </tr>\n",
       "    <tr>\n",
       "      <th>?</th>\n",
       "      <td>1843</td>\n",
       "      <td>5.66</td>\n",
       "      <td>0.90</td>\n",
       "    </tr>\n",
       "    <tr>\n",
       "      <th>Transport-moving</th>\n",
       "      <td>1597</td>\n",
       "      <td>4.90</td>\n",
       "      <td>0.80</td>\n",
       "    </tr>\n",
       "    <tr>\n",
       "      <th>Handlers-cleaners</th>\n",
       "      <td>1370</td>\n",
       "      <td>4.21</td>\n",
       "      <td>0.94</td>\n",
       "    </tr>\n",
       "    <tr>\n",
       "      <th>Farming-fishing</th>\n",
       "      <td>994</td>\n",
       "      <td>3.05</td>\n",
       "      <td>0.88</td>\n",
       "    </tr>\n",
       "    <tr>\n",
       "      <th>Tech-support</th>\n",
       "      <td>928</td>\n",
       "      <td>2.85</td>\n",
       "      <td>0.70</td>\n",
       "    </tr>\n",
       "    <tr>\n",
       "      <th>Protective-serv</th>\n",
       "      <td>649</td>\n",
       "      <td>1.99</td>\n",
       "      <td>0.67</td>\n",
       "    </tr>\n",
       "    <tr>\n",
       "      <th>Priv-house-serv</th>\n",
       "      <td>149</td>\n",
       "      <td>0.46</td>\n",
       "      <td>0.99</td>\n",
       "    </tr>\n",
       "    <tr>\n",
       "      <th>Armed-Forces</th>\n",
       "      <td>9</td>\n",
       "      <td>0.03</td>\n",
       "      <td>0.89</td>\n",
       "    </tr>\n",
       "  </tbody>\n",
       "</table>\n",
       "</div>"
      ],
      "text/plain": [
       "                    Count  Percent  Target\n",
       "occupation                                \n",
       " Prof-specialty      4140    12.71    0.55\n",
       " Craft-repair        4099    12.59    0.77\n",
       " Exec-managerial     4066    12.49    0.52\n",
       " Adm-clerical        3770    11.58    0.87\n",
       " Sales               3650    11.21    0.73\n",
       " Other-service       3295    10.12    0.96\n",
       " Machine-op-inspct   2002     6.15    0.88\n",
       " ?                   1843     5.66    0.90\n",
       " Transport-moving    1597     4.90    0.80\n",
       " Handlers-cleaners   1370     4.21    0.94\n",
       " Farming-fishing      994     3.05    0.88\n",
       " Tech-support         928     2.85    0.70\n",
       " Protective-serv      649     1.99    0.67\n",
       " Priv-house-serv      149     0.46    0.99\n",
       " Armed-Forces           9     0.03    0.89"
      ]
     },
     "metadata": {},
     "output_type": "display_data"
    },
    {
     "data": {
      "text/html": [
       "<div>\n",
       "<table border=\"1\" class=\"dataframe\">\n",
       "  <thead>\n",
       "    <tr style=\"text-align: right;\">\n",
       "      <th></th>\n",
       "      <th>Count</th>\n",
       "      <th>Percent</th>\n",
       "      <th>Target</th>\n",
       "    </tr>\n",
       "    <tr>\n",
       "      <th>relationship</th>\n",
       "      <th></th>\n",
       "      <th></th>\n",
       "      <th></th>\n",
       "    </tr>\n",
       "  </thead>\n",
       "  <tbody>\n",
       "    <tr>\n",
       "      <th>Husband</th>\n",
       "      <td>13193</td>\n",
       "      <td>40.52</td>\n",
       "      <td>0.55</td>\n",
       "    </tr>\n",
       "    <tr>\n",
       "      <th>Not-in-family</th>\n",
       "      <td>8305</td>\n",
       "      <td>25.51</td>\n",
       "      <td>0.90</td>\n",
       "    </tr>\n",
       "    <tr>\n",
       "      <th>Own-child</th>\n",
       "      <td>5068</td>\n",
       "      <td>15.56</td>\n",
       "      <td>0.99</td>\n",
       "    </tr>\n",
       "    <tr>\n",
       "      <th>Unmarried</th>\n",
       "      <td>3446</td>\n",
       "      <td>10.58</td>\n",
       "      <td>0.94</td>\n",
       "    </tr>\n",
       "    <tr>\n",
       "      <th>Wife</th>\n",
       "      <td>1568</td>\n",
       "      <td>4.82</td>\n",
       "      <td>0.52</td>\n",
       "    </tr>\n",
       "    <tr>\n",
       "      <th>Other-relative</th>\n",
       "      <td>981</td>\n",
       "      <td>3.01</td>\n",
       "      <td>0.96</td>\n",
       "    </tr>\n",
       "  </tbody>\n",
       "</table>\n",
       "</div>"
      ],
      "text/plain": [
       "                 Count  Percent  Target\n",
       "relationship                           \n",
       " Husband         13193    40.52    0.55\n",
       " Not-in-family    8305    25.51    0.90\n",
       " Own-child        5068    15.56    0.99\n",
       " Unmarried        3446    10.58    0.94\n",
       " Wife             1568     4.82    0.52\n",
       " Other-relative    981     3.01    0.96"
      ]
     },
     "metadata": {},
     "output_type": "display_data"
    },
    {
     "data": {
      "text/html": [
       "<div>\n",
       "<table border=\"1\" class=\"dataframe\">\n",
       "  <thead>\n",
       "    <tr style=\"text-align: right;\">\n",
       "      <th></th>\n",
       "      <th>Count</th>\n",
       "      <th>Percent</th>\n",
       "      <th>Target</th>\n",
       "    </tr>\n",
       "    <tr>\n",
       "      <th>race</th>\n",
       "      <th></th>\n",
       "      <th></th>\n",
       "      <th></th>\n",
       "    </tr>\n",
       "  </thead>\n",
       "  <tbody>\n",
       "    <tr>\n",
       "      <th>White</th>\n",
       "      <td>27816</td>\n",
       "      <td>85.43</td>\n",
       "      <td>0.74</td>\n",
       "    </tr>\n",
       "    <tr>\n",
       "      <th>Black</th>\n",
       "      <td>3124</td>\n",
       "      <td>9.59</td>\n",
       "      <td>0.88</td>\n",
       "    </tr>\n",
       "    <tr>\n",
       "      <th>Asian-Pac-Islander</th>\n",
       "      <td>1039</td>\n",
       "      <td>3.19</td>\n",
       "      <td>0.73</td>\n",
       "    </tr>\n",
       "    <tr>\n",
       "      <th>Amer-Indian-Eskimo</th>\n",
       "      <td>311</td>\n",
       "      <td>0.96</td>\n",
       "      <td>0.88</td>\n",
       "    </tr>\n",
       "    <tr>\n",
       "      <th>Other</th>\n",
       "      <td>271</td>\n",
       "      <td>0.83</td>\n",
       "      <td>0.91</td>\n",
       "    </tr>\n",
       "  </tbody>\n",
       "</table>\n",
       "</div>"
      ],
      "text/plain": [
       "                     Count  Percent  Target\n",
       "race                                       \n",
       " White               27816    85.43    0.74\n",
       " Black                3124     9.59    0.88\n",
       " Asian-Pac-Islander   1039     3.19    0.73\n",
       " Amer-Indian-Eskimo    311     0.96    0.88\n",
       " Other                 271     0.83    0.91"
      ]
     },
     "metadata": {},
     "output_type": "display_data"
    },
    {
     "data": {
      "text/html": [
       "<div>\n",
       "<table border=\"1\" class=\"dataframe\">\n",
       "  <thead>\n",
       "    <tr style=\"text-align: right;\">\n",
       "      <th></th>\n",
       "      <th>Count</th>\n",
       "      <th>Percent</th>\n",
       "      <th>Target</th>\n",
       "    </tr>\n",
       "    <tr>\n",
       "      <th>sex</th>\n",
       "      <th></th>\n",
       "      <th></th>\n",
       "      <th></th>\n",
       "    </tr>\n",
       "  </thead>\n",
       "  <tbody>\n",
       "    <tr>\n",
       "      <th>Male</th>\n",
       "      <td>21790</td>\n",
       "      <td>66.92</td>\n",
       "      <td>0.69</td>\n",
       "    </tr>\n",
       "    <tr>\n",
       "      <th>Female</th>\n",
       "      <td>10771</td>\n",
       "      <td>33.08</td>\n",
       "      <td>0.89</td>\n",
       "    </tr>\n",
       "  </tbody>\n",
       "</table>\n",
       "</div>"
      ],
      "text/plain": [
       "         Count  Percent  Target\n",
       "sex                            \n",
       " Male    21790    66.92    0.69\n",
       " Female  10771    33.08    0.89"
      ]
     },
     "metadata": {},
     "output_type": "display_data"
    },
    {
     "data": {
      "text/html": [
       "<div>\n",
       "<table border=\"1\" class=\"dataframe\">\n",
       "  <thead>\n",
       "    <tr style=\"text-align: right;\">\n",
       "      <th></th>\n",
       "      <th>Count</th>\n",
       "      <th>Percent</th>\n",
       "      <th>Target</th>\n",
       "    </tr>\n",
       "    <tr>\n",
       "      <th>native.country</th>\n",
       "      <th></th>\n",
       "      <th></th>\n",
       "      <th></th>\n",
       "    </tr>\n",
       "  </thead>\n",
       "  <tbody>\n",
       "    <tr>\n",
       "      <th>United-States</th>\n",
       "      <td>29170</td>\n",
       "      <td>89.59</td>\n",
       "      <td>0.75</td>\n",
       "    </tr>\n",
       "    <tr>\n",
       "      <th>Mexico</th>\n",
       "      <td>643</td>\n",
       "      <td>1.97</td>\n",
       "      <td>0.95</td>\n",
       "    </tr>\n",
       "    <tr>\n",
       "      <th>?</th>\n",
       "      <td>583</td>\n",
       "      <td>1.79</td>\n",
       "      <td>0.75</td>\n",
       "    </tr>\n",
       "    <tr>\n",
       "      <th>Philippines</th>\n",
       "      <td>198</td>\n",
       "      <td>0.61</td>\n",
       "      <td>0.69</td>\n",
       "    </tr>\n",
       "    <tr>\n",
       "      <th>Germany</th>\n",
       "      <td>137</td>\n",
       "      <td>0.42</td>\n",
       "      <td>0.68</td>\n",
       "    </tr>\n",
       "    <tr>\n",
       "      <th>Canada</th>\n",
       "      <td>121</td>\n",
       "      <td>0.37</td>\n",
       "      <td>0.68</td>\n",
       "    </tr>\n",
       "    <tr>\n",
       "      <th>Puerto-Rico</th>\n",
       "      <td>114</td>\n",
       "      <td>0.35</td>\n",
       "      <td>0.89</td>\n",
       "    </tr>\n",
       "    <tr>\n",
       "      <th>El-Salvador</th>\n",
       "      <td>106</td>\n",
       "      <td>0.33</td>\n",
       "      <td>0.92</td>\n",
       "    </tr>\n",
       "    <tr>\n",
       "      <th>India</th>\n",
       "      <td>100</td>\n",
       "      <td>0.31</td>\n",
       "      <td>0.60</td>\n",
       "    </tr>\n",
       "    <tr>\n",
       "      <th>Cuba</th>\n",
       "      <td>95</td>\n",
       "      <td>0.29</td>\n",
       "      <td>0.74</td>\n",
       "    </tr>\n",
       "    <tr>\n",
       "      <th>England</th>\n",
       "      <td>90</td>\n",
       "      <td>0.28</td>\n",
       "      <td>0.67</td>\n",
       "    </tr>\n",
       "    <tr>\n",
       "      <th>Jamaica</th>\n",
       "      <td>81</td>\n",
       "      <td>0.25</td>\n",
       "      <td>0.88</td>\n",
       "    </tr>\n",
       "    <tr>\n",
       "      <th>South</th>\n",
       "      <td>80</td>\n",
       "      <td>0.25</td>\n",
       "      <td>0.80</td>\n",
       "    </tr>\n",
       "    <tr>\n",
       "      <th>China</th>\n",
       "      <td>75</td>\n",
       "      <td>0.23</td>\n",
       "      <td>0.73</td>\n",
       "    </tr>\n",
       "    <tr>\n",
       "      <th>Italy</th>\n",
       "      <td>73</td>\n",
       "      <td>0.22</td>\n",
       "      <td>0.66</td>\n",
       "    </tr>\n",
       "    <tr>\n",
       "      <th>Dominican-Republic</th>\n",
       "      <td>70</td>\n",
       "      <td>0.21</td>\n",
       "      <td>0.97</td>\n",
       "    </tr>\n",
       "    <tr>\n",
       "      <th>Vietnam</th>\n",
       "      <td>67</td>\n",
       "      <td>0.21</td>\n",
       "      <td>0.93</td>\n",
       "    </tr>\n",
       "    <tr>\n",
       "      <th>Guatemala</th>\n",
       "      <td>64</td>\n",
       "      <td>0.20</td>\n",
       "      <td>0.95</td>\n",
       "    </tr>\n",
       "    <tr>\n",
       "      <th>Japan</th>\n",
       "      <td>62</td>\n",
       "      <td>0.19</td>\n",
       "      <td>0.61</td>\n",
       "    </tr>\n",
       "    <tr>\n",
       "      <th>Poland</th>\n",
       "      <td>60</td>\n",
       "      <td>0.18</td>\n",
       "      <td>0.80</td>\n",
       "    </tr>\n",
       "    <tr>\n",
       "      <th>Columbia</th>\n",
       "      <td>59</td>\n",
       "      <td>0.18</td>\n",
       "      <td>0.97</td>\n",
       "    </tr>\n",
       "    <tr>\n",
       "      <th>Taiwan</th>\n",
       "      <td>51</td>\n",
       "      <td>0.16</td>\n",
       "      <td>0.61</td>\n",
       "    </tr>\n",
       "    <tr>\n",
       "      <th>Haiti</th>\n",
       "      <td>44</td>\n",
       "      <td>0.14</td>\n",
       "      <td>0.91</td>\n",
       "    </tr>\n",
       "    <tr>\n",
       "      <th>Iran</th>\n",
       "      <td>43</td>\n",
       "      <td>0.13</td>\n",
       "      <td>0.58</td>\n",
       "    </tr>\n",
       "    <tr>\n",
       "      <th>Portugal</th>\n",
       "      <td>37</td>\n",
       "      <td>0.11</td>\n",
       "      <td>0.89</td>\n",
       "    </tr>\n",
       "    <tr>\n",
       "      <th>Nicaragua</th>\n",
       "      <td>34</td>\n",
       "      <td>0.10</td>\n",
       "      <td>0.94</td>\n",
       "    </tr>\n",
       "    <tr>\n",
       "      <th>Peru</th>\n",
       "      <td>31</td>\n",
       "      <td>0.10</td>\n",
       "      <td>0.94</td>\n",
       "    </tr>\n",
       "    <tr>\n",
       "      <th>Greece</th>\n",
       "      <td>29</td>\n",
       "      <td>0.09</td>\n",
       "      <td>0.72</td>\n",
       "    </tr>\n",
       "    <tr>\n",
       "      <th>France</th>\n",
       "      <td>29</td>\n",
       "      <td>0.09</td>\n",
       "      <td>0.59</td>\n",
       "    </tr>\n",
       "    <tr>\n",
       "      <th>Ecuador</th>\n",
       "      <td>28</td>\n",
       "      <td>0.09</td>\n",
       "      <td>0.86</td>\n",
       "    </tr>\n",
       "    <tr>\n",
       "      <th>Ireland</th>\n",
       "      <td>24</td>\n",
       "      <td>0.07</td>\n",
       "      <td>0.79</td>\n",
       "    </tr>\n",
       "    <tr>\n",
       "      <th>Hong</th>\n",
       "      <td>20</td>\n",
       "      <td>0.06</td>\n",
       "      <td>0.70</td>\n",
       "    </tr>\n",
       "    <tr>\n",
       "      <th>Cambodia</th>\n",
       "      <td>19</td>\n",
       "      <td>0.06</td>\n",
       "      <td>0.63</td>\n",
       "    </tr>\n",
       "    <tr>\n",
       "      <th>Trinadad&amp;Tobago</th>\n",
       "      <td>19</td>\n",
       "      <td>0.06</td>\n",
       "      <td>0.89</td>\n",
       "    </tr>\n",
       "    <tr>\n",
       "      <th>Laos</th>\n",
       "      <td>18</td>\n",
       "      <td>0.06</td>\n",
       "      <td>0.89</td>\n",
       "    </tr>\n",
       "    <tr>\n",
       "      <th>Thailand</th>\n",
       "      <td>18</td>\n",
       "      <td>0.06</td>\n",
       "      <td>0.83</td>\n",
       "    </tr>\n",
       "    <tr>\n",
       "      <th>Yugoslavia</th>\n",
       "      <td>16</td>\n",
       "      <td>0.05</td>\n",
       "      <td>0.62</td>\n",
       "    </tr>\n",
       "    <tr>\n",
       "      <th>Outlying-US(Guam-USVI-etc)</th>\n",
       "      <td>14</td>\n",
       "      <td>0.04</td>\n",
       "      <td>1.00</td>\n",
       "    </tr>\n",
       "    <tr>\n",
       "      <th>Hungary</th>\n",
       "      <td>13</td>\n",
       "      <td>0.04</td>\n",
       "      <td>0.77</td>\n",
       "    </tr>\n",
       "    <tr>\n",
       "      <th>Honduras</th>\n",
       "      <td>13</td>\n",
       "      <td>0.04</td>\n",
       "      <td>0.92</td>\n",
       "    </tr>\n",
       "    <tr>\n",
       "      <th>Scotland</th>\n",
       "      <td>12</td>\n",
       "      <td>0.04</td>\n",
       "      <td>0.75</td>\n",
       "    </tr>\n",
       "    <tr>\n",
       "      <th>Holand-Netherlands</th>\n",
       "      <td>1</td>\n",
       "      <td>0.00</td>\n",
       "      <td>1.00</td>\n",
       "    </tr>\n",
       "  </tbody>\n",
       "</table>\n",
       "</div>"
      ],
      "text/plain": [
       "                             Count  Percent  Target\n",
       "native.country                                     \n",
       " United-States               29170    89.59    0.75\n",
       " Mexico                        643     1.97    0.95\n",
       " ?                             583     1.79    0.75\n",
       " Philippines                   198     0.61    0.69\n",
       " Germany                       137     0.42    0.68\n",
       " Canada                        121     0.37    0.68\n",
       " Puerto-Rico                   114     0.35    0.89\n",
       " El-Salvador                   106     0.33    0.92\n",
       " India                         100     0.31    0.60\n",
       " Cuba                           95     0.29    0.74\n",
       " England                        90     0.28    0.67\n",
       " Jamaica                        81     0.25    0.88\n",
       " South                          80     0.25    0.80\n",
       " China                          75     0.23    0.73\n",
       " Italy                          73     0.22    0.66\n",
       " Dominican-Republic             70     0.21    0.97\n",
       " Vietnam                        67     0.21    0.93\n",
       " Guatemala                      64     0.20    0.95\n",
       " Japan                          62     0.19    0.61\n",
       " Poland                         60     0.18    0.80\n",
       " Columbia                       59     0.18    0.97\n",
       " Taiwan                         51     0.16    0.61\n",
       " Haiti                          44     0.14    0.91\n",
       " Iran                           43     0.13    0.58\n",
       " Portugal                       37     0.11    0.89\n",
       " Nicaragua                      34     0.10    0.94\n",
       " Peru                           31     0.10    0.94\n",
       " Greece                         29     0.09    0.72\n",
       " France                         29     0.09    0.59\n",
       " Ecuador                        28     0.09    0.86\n",
       " Ireland                        24     0.07    0.79\n",
       " Hong                           20     0.06    0.70\n",
       " Cambodia                       19     0.06    0.63\n",
       " Trinadad&Tobago                19     0.06    0.89\n",
       " Laos                           18     0.06    0.89\n",
       " Thailand                       18     0.06    0.83\n",
       " Yugoslavia                     16     0.05    0.62\n",
       " Outlying-US(Guam-USVI-etc)     14     0.04    1.00\n",
       " Hungary                        13     0.04    0.77\n",
       " Honduras                       13     0.04    0.92\n",
       " Scotland                       12     0.04    0.75\n",
       " Holand-Netherlands              1     0.00    1.00"
      ]
     },
     "metadata": {},
     "output_type": "display_data"
    }
   ],
   "source": [
    "for columns in data:\n",
    "    if is_string_dtype(data[columns]):\n",
    "        df = data[[columns, 'target']].groupby(columns).agg([len, np.mean])\n",
    "        df.columns = df.columns.droplevel()\n",
    "        df['Percent'] = np.round(100 * df['len'] / sum(df['len']), 2)\n",
    "        df['Target'] = np.round(df['mean'], 2)\n",
    "        df.columns = ['Count', 'mean', 'Percent', 'Target']\n",
    "        display(df[['Count', 'Percent', 'Target']].sort_values(by=['Count'], ascending=False))\n",
    "    else:\n",
    "        pass"
   ]
  },
  {
   "cell_type": "markdown",
   "metadata": {},
   "source": [
    "Based on the results, I group levels under the 2% threshold with similar levels. \n",
    "\n",
    "I use functions for all of these transformations to make the process reproducible for the test data."
   ]
  },
  {
   "cell_type": "code",
   "execution_count": 5,
   "metadata": {
    "collapsed": true
   },
   "outputs": [],
   "source": [
    "def grp_workclass(row):\n",
    "    if row['workclass'] in [\" ?\", \" Without-pay\", \" Never-worked\"]:\n",
    "        return \"None\"\n",
    "    else:\n",
    "        return row['workclass']\n",
    "def grp_marital_status(row):\n",
    "    if row['marital.status'] in [\" Widowed\", \" Married-spouse-absent\"]:\n",
    "        return \"Absent\"\n",
    "    elif row['marital.status'] in [\" Married-civ-spouse\", \" Married-AF-spouse\"]:\n",
    "        return \"Married\"\n",
    "    else:\n",
    "        return row['marital.status']\n",
    "def grp_occupation(row):\n",
    "    if row['occupation'] in [\" ?\", \" Armed-Forces\"]:\n",
    "        return \"Other\"\n",
    "    elif row['occupation'] in [\" Protective-serv\", \" Tech-support\"]:\n",
    "        return \"Support\"\n",
    "    elif row['occupation'] in [\" Priv-house-serv\", \" Other-service\"]:\n",
    "        return \"Other-service\"\n",
    "    else:\n",
    "        return row['occupation']\n",
    "def grp_race(row):\n",
    "    if row['race'] in [\" Black\", \" Other\", \" Amer-Indian-Eskimo\"]:\n",
    "        return \"Other\"\n",
    "    else:\n",
    "        return row['race']\n",
    "def grp_native_country(row):\n",
    "    if row['native.country'] not in [\" United-States\"]:\n",
    "        return \"Other\"\n",
    "    else:\n",
    "        return row['native.country']\n",
    "def grp_categories(df):\n",
    "    grpd = df.copy()\n",
    "    grpd['workclass'] = grpd.apply(grp_workclass, axis=1)\n",
    "    grpd['marital.status'] = grpd.apply(grp_marital_status, axis=1)\n",
    "    grpd['occupation'] = grpd.apply(grp_occupation, axis=1)\n",
    "    grpd['race'] = grpd.apply(grp_race, axis=1)\n",
    "    grpd['native.country'] = grpd.apply(grp_native_country, axis=1)\n",
    "    return grpd\n",
    "\n",
    "data_grpd = grp_categories(data)"
   ]
  },
  {
   "cell_type": "markdown",
   "metadata": {},
   "source": [
    "### Likelihood Encode Nominal Variables\n",
    "\n",
    "After grouping, the nominal variables are likelihood encoded matching the original paper. \n",
    "\n",
    "This encoding causes information leakage if using the target from the entire training data and then performing cross-validation. Leakage is minimized if cardinality is small and the target is not rare which is true in part due to the grouping I did previously. Otherwise, I would need to do the encoding in each of the cross-validation folds which would be fairly complicated.   "
   ]
  },
  {
   "cell_type": "code",
   "execution_count": 6,
   "metadata": {
    "collapsed": true,
    "scrolled": true
   },
   "outputs": [],
   "source": [
    "def likelihood_encode(df):\n",
    "    encd = df.copy()\n",
    "    for columns in data_grpd:\n",
    "        if is_string_dtype(data_grpd[columns]):\n",
    "            woe = data_grpd[[columns, 'target']].groupby(columns).agg([np.mean])\n",
    "            woe.columns = woe.columns.droplevel()\n",
    "            woe.columns = [\"enc.\"+columns]\n",
    "            encd = encd.merge(woe.reset_index())\n",
    "            encd.drop([columns], axis=1, inplace=True)\n",
    "        else:\n",
    "            pass\n",
    "    return encd\n",
    "\n",
    "data_enc = likelihood_encode(data_grpd).sort_values(by=['id'])"
   ]
  },
  {
   "cell_type": "markdown",
   "metadata": {
    "collapsed": true
   },
   "source": [
    "## scikit-learn Baseline Model\n",
    "\n",
    "I create a baseline model to serve as a comparison for the model building process in **h2o**. Due to its relative simplicity, I choose lasso logistic regression. While **h2o** is use later on, the baseline uses scikit-learn."
   ]
  },
  {
   "cell_type": "code",
   "execution_count": 7,
   "metadata": {
    "collapsed": false
   },
   "outputs": [
    {
     "data": {
      "text/plain": [
       "'The baseline MSE for the test data is 0.10362'"
      ]
     },
     "execution_count": 7,
     "metadata": {},
     "output_type": "execute_result"
    }
   ],
   "source": [
    "# Specify the model\n",
    "logistic = linear_model.LogisticRegression(penalty=\"l1\")\n",
    "\n",
    "# Fit to the training data\n",
    "X = data_enc.drop(['target', 'id'], axis=1).values\n",
    "y = data_enc['target'].values\n",
    "logistic.fit(X, y)\n",
    "\n",
    "# Process the testing data\n",
    "test_enc = likelihood_encode(grp_categories(test.sort_values(by=['id'])))\n",
    "# Score the model on the testing data\n",
    "test_pred = logistic.predict_proba(test_enc.drop(['target', 'id'], axis=1).values)\n",
    "# Keep only the probability of a 1 for the target \n",
    "test_pred1 = [item[1] for item in test_pred]\n",
    "\n",
    "# Calculate MSE for the test data\n",
    "baseline = metrics.mean_squared_error(test_enc['target'], test_pred1)\n",
    "\"The baseline MSE for the test data is {:.5f}\".format(np.round(baseline, 5))"
   ]
  },
  {
   "cell_type": "markdown",
   "metadata": {},
   "source": [
    "## h2o Models\n",
    "\n",
    "I test several types of models including automatic machine learning and stacking. Models chosen in grid searches are determined by mean-squared-error, the metric used in the paper. For stacking, I choose to keep cross validation predictions, use the \"Modulo\" fold assignment method, and specify the same number of folds and random number seed for all models.\n",
    "\n",
    "### Data\n",
    "\n",
    "Python is just an interface to the H2O JVM, so removing objects can avoid errors if the object already exists. I create an H2OFrame from the modified pandas dataframe and specify that **`target`** is a factor. "
   ]
  },
  {
   "cell_type": "code",
   "execution_count": 8,
   "metadata": {
    "collapsed": false
   },
   "outputs": [
    {
     "name": "stdout",
     "output_type": "stream",
     "text": [
      "Parse progress: |█████████████████████████████████████████████████████████| 100%\n",
      "Parse progress: |█████████████████████████████████████████████████████████| 100%\n"
     ]
    }
   ],
   "source": [
    "h2o.remove(\"data_h2o\") \n",
    "data_h2o = h2o.H2OFrame(data_enc)\n",
    "data_h2o['target'] = data_h2o['target'].asfactor()\n",
    "\n",
    "h2o.remove(\"test_h2o\")\n",
    "test_h2o = h2o.H2OFrame(test_enc)\n",
    "test_h2o['target'] = test_h2o['target'].asfactor()\n",
    "\n",
    "predictors = [i for i in data_h2o.columns if i not in ['target', 'id']]"
   ]
  },
  {
   "cell_type": "markdown",
   "metadata": {},
   "source": [
    "### Logistic Regression \n",
    "\n",
    "I fit a logistic regression, allowing the weight between the l1 (lasso) and l2 (ridge) penalty vary in a grid."
   ]
  },
  {
   "cell_type": "code",
   "execution_count": 9,
   "metadata": {
    "collapsed": false
   },
   "outputs": [
    {
     "name": "stdout",
     "output_type": "stream",
     "text": [
      "glm Grid Build progress: |████████████████████████████████████████████████| 100%\n"
     ]
    }
   ],
   "source": [
    "# Hyperparameters\n",
    "glm_params = {\"alpha\": [0, 0.25, 0.5, 0.75, 1]}\n",
    "\n",
    "# Train across the grid\n",
    "h2o.remove(\"glm_grid\")\n",
    "glm_grid = H2OGridSearch(model=H2OGeneralizedLinearEstimator, \n",
    "                         grid_id=\"glm_grid\", \n",
    "                         hyper_params=glm_params)\n",
    "\n",
    "glm_grid.train(x=predictors, y=\"target\", \n",
    "               training_frame=data_h2o, \n",
    "               nfolds=5, seed=98,\n",
    "               fold_assignment=\"Modulo\",\n",
    "               keep_cross_validation_predictions=True,\n",
    "               family=\"binomial\", lambda_search=True)\n",
    "\n",
    "# Generate a leaderboard by MSE\n",
    "glm_gridperf = glm_grid.get_grid(sort_by=\"mse\", decreasing=False)\n",
    "\n",
    "# Generate fit statistics for the best ranking model on the test set\n",
    "best_glm = glm_gridperf.models[0]\n",
    "best_glm_perf = best_glm.model_performance(test_h2o)"
   ]
  },
  {
   "cell_type": "markdown",
   "metadata": {},
   "source": [
    "### Random Forest\n",
    "\n",
    "I fit a random forest with a simple grid of the number of columns to select at each level."
   ]
  },
  {
   "cell_type": "code",
   "execution_count": 10,
   "metadata": {
    "collapsed": false
   },
   "outputs": [
    {
     "name": "stdout",
     "output_type": "stream",
     "text": [
      "drf Grid Build progress: |████████████████████████████████████████████████| 100%\n"
     ]
    }
   ],
   "source": [
    "# Hyperparameters\n",
    "drf_params = {\"mtries\": [-1, 2, 3, 5]}\n",
    "\n",
    "# Train across the grid\n",
    "h2o.remove(\"drf_grid\")\n",
    "drf_grid = H2OGridSearch(model=H2ORandomForestEstimator, \n",
    "                         grid_id=\"drf_grid\", \n",
    "                         hyper_params=drf_params)\n",
    "\n",
    "drf_grid.train(x=predictors, y=\"target\", \n",
    "               training_frame=data_h2o, \n",
    "               nfolds=5, seed=98,\n",
    "               fold_assignment=\"Modulo\",\n",
    "               keep_cross_validation_predictions=True)\n",
    "\n",
    "# Generate a leaderboard by MSE\n",
    "drf_gridperf = drf_grid.get_grid(sort_by=\"mse\", decreasing=False)\n",
    "\n",
    "# Generate fit statistics for the best ranking model on the test set\n",
    "best_drf = drf_gridperf.models[0]\n",
    "best_drf_perf = best_drf.model_performance(test_h2o)"
   ]
  },
  {
   "cell_type": "code",
   "execution_count": 11,
   "metadata": {
    "collapsed": false
   },
   "outputs": [
    {
     "data": {
      "image/png": "[encoded data removed]",
      "text/plain": [
       "<matplotlib.figure.Figure at 0x11379d6d8>"
      ]
     },
     "metadata": {},
     "output_type": "display_data"
    }
   ],
   "source": [
    "best_drf.varimp_plot(num_of_features = 13)"
   ]
  },
  {
   "cell_type": "markdown",
   "metadata": {},
   "source": [
    "### Gradient Boosting Machine\n",
    "\n",
    "I fit a gradient boosting machine with a more complex grid requiring significantly more training time."
   ]
  },
  {
   "cell_type": "code",
   "execution_count": 12,
   "metadata": {
    "collapsed": false
   },
   "outputs": [
    {
     "name": "stdout",
     "output_type": "stream",
     "text": [
      "gbm Grid Build progress: |████████████████████████████████████████████████| 100%\n"
     ]
    }
   ],
   "source": [
    "# Hyperparameters\n",
    "gbm_params = {\"learn_rate\": [0.01, 0.1],\n",
    "              \"max_depth\": [3, 5, 9],\n",
    "              \"sample_rate\": [0.8, 1.0],\n",
    "              \"col_sample_rate\": [0.2, 0.5, 1.0]}\n",
    "\n",
    "# Train across the grid\n",
    "h2o.remove(\"gbm_grid\")\n",
    "gbm_grid = H2OGridSearch(model=H2OGradientBoostingEstimator,\n",
    "                         grid_id=\"gbm_grid\", hyper_params=gbm_params)\n",
    "\n",
    "gbm_grid.train(x=predictors, y=\"target\", \n",
    "               training_frame=data_h2o,\n",
    "               distribution=\"bernoulli\",\n",
    "               nfolds=5, seed=98,\n",
    "               fold_assignment=\"Modulo\",\n",
    "               keep_cross_validation_predictions=True)\n",
    "\n",
    "# Generate a leaderboard by MSE\n",
    "gbm_gridperf = gbm_grid.get_grid(sort_by=\"mse\", decreasing=False)\n",
    "\n",
    "# Generate fit statistics for the best ranking model on the test set\n",
    "best_gbm = gbm_gridperf.models[0]\n",
    "best_gbm_perf = best_gbm.model_performance(test_h2o)"
   ]
  },
  {
   "cell_type": "markdown",
   "metadata": {},
   "source": [
    "### Naive Bayes Classifier\n",
    "\n",
    "I fit a Naive Bayes Classifier without any hyperparameter tuning."
   ]
  },
  {
   "cell_type": "code",
   "execution_count": 13,
   "metadata": {
    "collapsed": false
   },
   "outputs": [
    {
     "name": "stdout",
     "output_type": "stream",
     "text": [
      "naivebayes Model Build progress: |████████████████████████████████████████| 100%\n"
     ]
    }
   ],
   "source": [
    "# Train model\n",
    "h2o.remove(\"nb_model\")\n",
    "nb_model = H2ONaiveBayesEstimator(nfolds=5, seed=98,\n",
    "                                  model_id=\"nb_model\",\n",
    "                                  fold_assignment=\"Modulo\",\n",
    "                                  keep_cross_validation_predictions=True,)\n",
    "\n",
    "nb_model.train(x=predictors, y=\"target\", \n",
    "               training_frame=data_h2o)\n",
    "\n",
    "# Generate fit statistics for the best ranking model on the test set\n",
    "nb_model_perf = nb_model.model_performance(test_h2o)"
   ]
  },
  {
   "cell_type": "markdown",
   "metadata": {},
   "source": [
    "### AutoML\n",
    "\n",
    "I use the built-in automatic machine learning process to generate a series of models. Since stacked ensembles are part of the process, it will not be incorporated into the stacked ensemble."
   ]
  },
  {
   "cell_type": "code",
   "execution_count": 14,
   "metadata": {
    "collapsed": false
   },
   "outputs": [
    {
     "name": "stdout",
     "output_type": "stream",
     "text": [
      "AutoML progress: |████████████████████████████████████████████████████████| 100%\n",
      "Parse progress: |█████████████████████████████████████████████████████████| 100%\n"
     ]
    },
    {
     "data": {
      "text/html": [
       "<table>\n",
       "<thead>\n",
       "<tr><th>model_id                                             </th><th style=\"text-align: right;\">     auc</th><th style=\"text-align: right;\">  logloss</th></tr>\n",
       "</thead>\n",
       "<tbody>\n",
       "<tr><td>GBM_grid_0_AutoML_20180101_152239_model_0            </td><td style=\"text-align: right;\">0.926858</td><td style=\"text-align: right;\"> 0.281139</td></tr>\n",
       "<tr><td>StackedEnsemble_BestOfFamily_0_AutoML_20180101_152239</td><td style=\"text-align: right;\">0.926068</td><td style=\"text-align: right;\"> 0.299102</td></tr>\n",
       "<tr><td>GBM_grid_0_AutoML_20180101_152239_model_2            </td><td style=\"text-align: right;\">0.925859</td><td style=\"text-align: right;\"> 0.282374</td></tr>\n",
       "<tr><td>GBM_grid_0_AutoML_20180101_152239_model_1            </td><td style=\"text-align: right;\">0.925632</td><td style=\"text-align: right;\"> 0.283038</td></tr>\n",
       "<tr><td>GBM_grid_0_AutoML_20180101_152239_model_7            </td><td style=\"text-align: right;\">0.925062</td><td style=\"text-align: right;\"> 0.284023</td></tr>\n",
       "<tr><td>StackedEnsemble_AllModels_0_AutoML_20180101_152239   </td><td style=\"text-align: right;\">0.924714</td><td style=\"text-align: right;\"> 0.295594</td></tr>\n",
       "<tr><td>GBM_grid_0_AutoML_20180101_152239_model_3            </td><td style=\"text-align: right;\">0.924625</td><td style=\"text-align: right;\"> 0.284932</td></tr>\n",
       "<tr><td>GBM_grid_0_AutoML_20180101_152239_model_6            </td><td style=\"text-align: right;\">0.924389</td><td style=\"text-align: right;\"> 0.285514</td></tr>\n",
       "<tr><td>GBM_grid_0_AutoML_20180101_152239_model_4            </td><td style=\"text-align: right;\">0.922066</td><td style=\"text-align: right;\"> 0.289403</td></tr>\n",
       "<tr><td>GBM_grid_0_AutoML_20180101_152239_model_5            </td><td style=\"text-align: right;\">0.917405</td><td style=\"text-align: right;\"> 0.301659</td></tr>\n",
       "</tbody>\n",
       "</table>"
      ]
     },
     "metadata": {},
     "output_type": "display_data"
    },
    {
     "data": {
      "text/plain": []
     },
     "execution_count": 14,
     "metadata": {},
     "output_type": "execute_result"
    }
   ],
   "source": [
    "# Run AutoML for four minutes\n",
    "aml = H2OAutoML(max_runtime_secs=240)\n",
    "\n",
    "aml.train(x=predictors, y=\"target\", \n",
    "          training_frame=data_h2o)\n",
    "\n",
    "# Generate fit statistics for the best ranking model on the test set\n",
    "best_aml_perf = aml.leader.model_performance(test_h2o)\n",
    "\n",
    "aml.leaderboard"
   ]
  },
  {
   "cell_type": "markdown",
   "metadata": {},
   "source": [
    "### Fit Statistics of First Level Models"
   ]
  },
  {
   "cell_type": "code",
   "execution_count": 15,
   "metadata": {
    "collapsed": false
   },
   "outputs": [
    {
     "data": {
      "text/html": [
       "<div>\n",
       "<table border=\"1\" class=\"dataframe\">\n",
       "  <thead>\n",
       "    <tr style=\"text-align: right;\">\n",
       "      <th></th>\n",
       "      <th>CV MSE</th>\n",
       "      <th>Test MSE</th>\n",
       "    </tr>\n",
       "    <tr>\n",
       "      <th>Model</th>\n",
       "      <th></th>\n",
       "      <th></th>\n",
       "    </tr>\n",
       "  </thead>\n",
       "  <tbody>\n",
       "    <tr>\n",
       "      <th>Logistic</th>\n",
       "      <td>0.10446</td>\n",
       "      <td>0.10350</td>\n",
       "    </tr>\n",
       "    <tr>\n",
       "      <th>Random Forest</th>\n",
       "      <td>0.09467</td>\n",
       "      <td>0.09456</td>\n",
       "    </tr>\n",
       "    <tr>\n",
       "      <th>GBM</th>\n",
       "      <td>0.08897</td>\n",
       "      <td>0.08859</td>\n",
       "    </tr>\n",
       "    <tr>\n",
       "      <th>Naive Bayes</th>\n",
       "      <td>0.14172</td>\n",
       "      <td>0.14258</td>\n",
       "    </tr>\n",
       "    <tr>\n",
       "      <th>AutoML</th>\n",
       "      <td>0.08936</td>\n",
       "      <td>0.08833</td>\n",
       "    </tr>\n",
       "  </tbody>\n",
       "</table>\n",
       "</div>"
      ],
      "text/plain": [
       "                CV MSE Test MSE\n",
       "Model                          \n",
       "Logistic       0.10446  0.10350\n",
       "Random Forest  0.09467  0.09456\n",
       "GBM            0.08897  0.08859\n",
       "Naive Bayes    0.14172  0.14258\n",
       "AutoML         0.08936  0.08833"
      ]
     },
     "metadata": {},
     "output_type": "display_data"
    },
    {
     "data": {
      "text/html": [
       "<div>\n",
       "<table border=\"1\" class=\"dataframe\">\n",
       "  <thead>\n",
       "    <tr style=\"text-align: right;\">\n",
       "      <th></th>\n",
       "      <th>CV AUC</th>\n",
       "      <th>Test AUC</th>\n",
       "    </tr>\n",
       "    <tr>\n",
       "      <th>Model</th>\n",
       "      <th></th>\n",
       "      <th></th>\n",
       "    </tr>\n",
       "  </thead>\n",
       "  <tbody>\n",
       "    <tr>\n",
       "      <th>Logistic</th>\n",
       "      <td>0.90208</td>\n",
       "      <td>0.90284</td>\n",
       "    </tr>\n",
       "    <tr>\n",
       "      <th>Random Forest</th>\n",
       "      <td>0.91755</td>\n",
       "      <td>0.91641</td>\n",
       "    </tr>\n",
       "    <tr>\n",
       "      <th>GBM</th>\n",
       "      <td>0.92701</td>\n",
       "      <td>0.92638</td>\n",
       "    </tr>\n",
       "    <tr>\n",
       "      <th>Naive Bayes</th>\n",
       "      <td>0.86257</td>\n",
       "      <td>0.85876</td>\n",
       "    </tr>\n",
       "    <tr>\n",
       "      <th>AutoML</th>\n",
       "      <td>0.92686</td>\n",
       "      <td>0.92677</td>\n",
       "    </tr>\n",
       "  </tbody>\n",
       "</table>\n",
       "</div>"
      ],
      "text/plain": [
       "                CV AUC Test AUC\n",
       "Model                          \n",
       "Logistic       0.90208  0.90284\n",
       "Random Forest  0.91755  0.91641\n",
       "GBM            0.92701  0.92638\n",
       "Naive Bayes    0.86257  0.85876\n",
       "AutoML         0.92686  0.92677"
      ]
     },
     "metadata": {},
     "output_type": "display_data"
    }
   ],
   "source": [
    "# Generate tables of fit statistics\n",
    "mse = pd.DataFrame({\"Model\":[\"Logistic\", \"Random Forest\", \"GBM\", \"Naive Bayes\", \"AutoML\"],\n",
    "                    \"CV MSE\":[best_glm.mse(xval=True),\n",
    "                              best_drf.mse(xval=True),\n",
    "                              best_gbm.mse(xval=True),\n",
    "                              nb_model.mse(xval=True),\n",
    "                              aml.leader.mse(xval=True)], \n",
    "                    \"Test MSE\":[best_glm_perf.mse(),\n",
    "                                best_drf_perf.mse(),\n",
    "                                best_gbm_perf.mse(),\n",
    "                                nb_model_perf.mse(),\n",
    "                                best_aml_perf.mse()]}).set_index('Model')\n",
    "mse['CV MSE'] = pd.Series([\"{0:.5f}\".format(val) for val in mse['CV MSE']], index = mse.index)\n",
    "mse['Test MSE'] = pd.Series([\"{0:.5f}\".format(val) for val in mse['Test MSE']], index = mse.index)\n",
    "\n",
    "auc = pd.DataFrame({\"Model\":[\"Logistic\", \"Random Forest\", \"GBM\", \"Naive Bayes\", \"AutoML\"],\n",
    "                    \"CV AUC\":[best_glm.auc(xval=True),\n",
    "                              best_drf.auc(xval=True),\n",
    "                              best_gbm.auc(xval=True),\n",
    "                              nb_model.auc(xval=True),\n",
    "                              aml.leader.auc(xval=True)], \n",
    "                    \"Test AUC\":[best_glm_perf.auc(),\n",
    "                                best_drf_perf.auc(),\n",
    "                                best_gbm_perf.auc(),\n",
    "                                nb_model_perf.auc(),\n",
    "                                best_aml_perf.auc()]}).set_index('Model')\n",
    "auc['CV AUC'] = pd.Series([\"{0:.5f}\".format(val) for val in auc['CV AUC']], index = auc.index)\n",
    "auc['Test AUC'] = pd.Series([\"{0:.5f}\".format(val) for val in auc['Test AUC']], index = auc.index)\n",
    "\n",
    "display(mse)\n",
    "display(auc)"
   ]
  },
  {
   "cell_type": "markdown",
   "metadata": {},
   "source": [
    "### Stacked Ensemble \n",
    "\n",
    "I fit a simple stacked ensemble using a linear model. "
   ]
  },
  {
   "cell_type": "code",
   "execution_count": 16,
   "metadata": {
    "collapsed": false
   },
   "outputs": [
    {
     "name": "stdout",
     "output_type": "stream",
     "text": [
      "stackedensemble Model Build progress: |███████████████████████████████████| 100%\n"
     ]
    }
   ],
   "source": [
    "# Train a stacked ensemble\n",
    "h2o.remove(\"ensemble\")\n",
    "ensemble = H2OStackedEnsembleEstimator(model_id=\"ensemble\",\n",
    "                                       base_models=[best_glm, \n",
    "                                                    best_drf, \n",
    "                                                    best_gbm,\n",
    "                                                    nb_model])\n",
    "\n",
    "ensemble.train(x=predictors, y=\"target\", training_frame=data_h2o)\n",
    "\n",
    "# Generate fit statistics for the best ranking model on the test set\n",
    "ensemble_perf = ensemble.model_performance(test_h2o)"
   ]
  },
  {
   "cell_type": "markdown",
   "metadata": {},
   "source": [
    "### Fit Statistics for All Models"
   ]
  },
  {
   "cell_type": "code",
   "execution_count": 17,
   "metadata": {
    "collapsed": false
   },
   "outputs": [
    {
     "data": {
      "text/html": [
       "<div>\n",
       "<table border=\"1\" class=\"dataframe\">\n",
       "  <thead>\n",
       "    <tr style=\"text-align: right;\">\n",
       "      <th></th>\n",
       "      <th>Test AUC</th>\n",
       "      <th>Test MSE</th>\n",
       "    </tr>\n",
       "    <tr>\n",
       "      <th>Model</th>\n",
       "      <th></th>\n",
       "      <th></th>\n",
       "    </tr>\n",
       "  </thead>\n",
       "  <tbody>\n",
       "    <tr>\n",
       "      <th>Logistic</th>\n",
       "      <td>0.90284</td>\n",
       "      <td>0.10350</td>\n",
       "    </tr>\n",
       "    <tr>\n",
       "      <th>Random Forest</th>\n",
       "      <td>0.91641</td>\n",
       "      <td>0.09456</td>\n",
       "    </tr>\n",
       "    <tr>\n",
       "      <th>GBM</th>\n",
       "      <td>0.92638</td>\n",
       "      <td>0.08859</td>\n",
       "    </tr>\n",
       "    <tr>\n",
       "      <th>Naive Bayes</th>\n",
       "      <td>0.85876</td>\n",
       "      <td>0.14258</td>\n",
       "    </tr>\n",
       "    <tr>\n",
       "      <th>AutoML</th>\n",
       "      <td>0.92677</td>\n",
       "      <td>0.08833</td>\n",
       "    </tr>\n",
       "    <tr>\n",
       "      <th>Ensemble</th>\n",
       "      <td>0.92566</td>\n",
       "      <td>0.09143</td>\n",
       "    </tr>\n",
       "  </tbody>\n",
       "</table>\n",
       "</div>"
      ],
      "text/plain": [
       "              Test AUC Test MSE\n",
       "Model                          \n",
       "Logistic       0.90284  0.10350\n",
       "Random Forest  0.91641  0.09456\n",
       "GBM            0.92638  0.08859\n",
       "Naive Bayes    0.85876  0.14258\n",
       "AutoML         0.92677  0.08833\n",
       "Ensemble       0.92566  0.09143"
      ]
     },
     "metadata": {},
     "output_type": "display_data"
    }
   ],
   "source": [
    "# Generate table of fit statistics on test data\n",
    "fit = pd.DataFrame({\"Model\":[\"Logistic\", \"Random Forest\", \"GBM\", \n",
    "                             \"Naive Bayes\", \"AutoML\", \"Ensemble\"],\n",
    "                    \"Test MSE\":[best_glm_perf.mse(),\n",
    "                                best_drf_perf.mse(),\n",
    "                                best_gbm_perf.mse(),\n",
    "                                nb_model_perf.mse(),\n",
    "                                best_aml_perf.mse(),\n",
    "                                ensemble_perf.mse()], \n",
    "                    \"Test AUC\":[best_glm_perf.auc(),\n",
    "                                best_drf_perf.auc(),\n",
    "                                best_gbm_perf.auc(),\n",
    "                                nb_model_perf.auc(),\n",
    "                                best_aml_perf.auc(),\n",
    "                                ensemble_perf.auc()]}).set_index('Model')\n",
    "fit['Test MSE'] = pd.Series([\"{0:.5f}\".format(val) for val in fit['Test MSE']], index = fit.index)\n",
    "fit['Test AUC'] = pd.Series([\"{0:.5f}\".format(val) for val in fit['Test AUC']], index = fit.index)\n",
    "\n",
    "display(fit)"
   ]
  },
  {
   "cell_type": "markdown",
   "metadata": {
    "collapsed": true
   },
   "source": [
    "## Visual Comparison of Top Models\n",
    "\n",
    "The fit statistics show that the tuned GBM and the AutoML fit the test data very well. The simplicity of the logistic regression also makes it an interesting candidate. I use two different plots to compare the models more closely. \n",
    "\n",
    "### Lift\n",
    "\n",
    "Plotting the testing target rate by prediction decile."
   ]
  },
  {
   "cell_type": "code",
   "execution_count": 18,
   "metadata": {
    "collapsed": false
   },
   "outputs": [
    {
     "name": "stdout",
     "output_type": "stream",
     "text": [
      "glm prediction progress: |████████████████████████████████████████████████| 100%\n",
      "gbm prediction progress: |████████████████████████████████████████████████| 100%\n",
      "gbm prediction progress: |████████████████████████████████████████████████| 100%\n"
     ]
    }
   ],
   "source": [
    "def score_bin(model, label):\n",
    "    score = model.predict(test_h2o).as_data_frame()\n",
    "    score.drop(['predict', 'p0'], axis=1, inplace=True)\n",
    "    score['bin'] = pd.qcut(score['p1'], q=10, labels=list(range(1,11)))\n",
    "    score_agg = score.join(test_enc)[['bin', 'target']].groupby(['bin']).agg([np.mean])\n",
    "    score_agg.columns = score_agg.columns.droplevel()\n",
    "    score_agg.columns = [label]\n",
    "    return score_agg\n",
    "\n",
    "lift = score_bin(best_glm, \"Logistic\").join(score_bin(best_gbm, \"GBM\")).join(score_bin(aml.leader, \"AutoML\"))\n",
    "lift = pd.melt(lift.reset_index(), id_vars=['bin'])"
   ]
  },
  {
   "cell_type": "code",
   "execution_count": 19,
   "metadata": {
    "collapsed": false,
    "scrolled": false
   },
   "outputs": [
    {
     "data": {
      "image/png": "[encoded data removed]",
      "text/plain": [
       "<matplotlib.figure.Figure at 0x121dac7f0>"
      ]
     },
     "metadata": {},
     "output_type": "display_data"
    }
   ],
   "source": [
    "# Plot lift\n",
    "lift_plt = sns.factorplot(x=\"bin\", y=\"value\", hue=\"variable\", data=lift,\n",
    "                   size=6, kind=\"bar\", palette=\"Set1\")\n",
    "\n",
    "lift_plt.set_ylabels(\"Test Percentage Making Less than $50K/yr\")\n",
    "lift_plt.set_xlabels(\"Predicted Score Decile\")\n",
    "lift_plt._legend.set_title(\"Model\")\n",
    "lift_plt.fig.suptitle(\"Model Lift\", fontsize=14, y=1)\n",
    "plt.show()"
   ]
  },
  {
   "cell_type": "markdown",
   "metadata": {},
   "source": [
    "### Dual Lift Model Comparison\n",
    "\n",
    "The lift chart shows that the AutoML and GBM results are very close. The dual lift model comparison plots the test target and the model predictions by the decile difference in the two models. The result shows that the AutoML ensemble fits the test data well."
   ]
  },
  {
   "cell_type": "code",
   "execution_count": 20,
   "metadata": {
    "collapsed": false
   },
   "outputs": [
    {
     "name": "stdout",
     "output_type": "stream",
     "text": [
      "gbm prediction progress: |████████████████████████████████████████████████| 100%\n",
      "gbm prediction progress: |████████████████████████████████████████████████| 100%\n"
     ]
    }
   ],
   "source": [
    "score_gbm = best_gbm.predict(test_h2o).as_data_frame()\n",
    "score_gbm.drop(['predict', 'p0'], axis=1, inplace=True)\n",
    "score_gbm.columns = ['gbm']\n",
    "\n",
    "score_aml = aml.leader.predict(test_h2o).as_data_frame()\n",
    "score_aml.drop(['predict', 'p0'], axis=1, inplace=True)\n",
    "score_aml.columns = ['aml']\n",
    "\n",
    "score_diff = test_enc.copy().join(score_gbm).join(score_aml)\n",
    "score_diff['diff'] = score_diff['aml'] - score_diff['gbm']\n",
    "score_diff['diff_bin'] = pd.qcut(score_diff['diff'], q=10, labels=list(range(1,11)))\n",
    "\n",
    "score_diff_agg = score_diff[['diff_bin', 'target', 'gbm', 'aml']].groupby(['diff_bin']).agg([np.mean])\n",
    "score_diff_agg.columns = score_diff_agg.columns.droplevel()\n",
    "score_diff_agg.columns = ['Actual', 'GBM', 'AutoML']\n",
    "score_diff_agg = pd.melt(score_diff_agg.reset_index(), id_vars=['diff_bin'])\n",
    "score_diff_agg.columns = ['Difference Bin', 'Model', 'Predicted Probability']"
   ]
  },
  {
   "cell_type": "code",
   "execution_count": 21,
   "metadata": {
    "collapsed": false
   },
   "outputs": [
    {
     "data": {
      "image/png": "[encoded data removed]",
      "text/plain": [
       "<matplotlib.figure.Figure at 0x11a33da58>"
      ]
     },
     "metadata": {},
     "output_type": "display_data"
    }
   ],
   "source": [
    "dlift_plt = sns.pointplot(x=\"Difference Bin\", y=\"Predicted Probability\", hue=\"Model\", \n",
    "                          palette=\"Set1\", data=score_diff_agg, markers=[\"o\", \"o\", \"o\"])\n",
    "plt.show()"
   ]
  }
 ],
 "metadata": {
  "anaconda-cloud": {},
  "kernelspec": {
   "display_name": "Python [conda env:drei]",
   "language": "python",
   "name": "conda-env-drei-py"
  },
  "language_info": {
   "codemirror_mode": {
    "name": "ipython",
    "version": 3
   },
   "file_extension": ".py",
   "mimetype": "text/x-python",
   "name": "python",
   "nbconvert_exporter": "python",
   "pygments_lexer": "ipython3",
   "version": "3.5.2"
  }
 },
 "nbformat": 4,
 "nbformat_minor": 2
}
