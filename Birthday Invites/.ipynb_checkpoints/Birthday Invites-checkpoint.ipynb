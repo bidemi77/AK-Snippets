{
 "cells": [
  {
   "cell_type": "code",
   "execution_count": 1,
   "metadata": {
    "collapsed": true
   },
   "outputs": [],
   "source": [
    "import pandas as pd\n",
    "from matplotlib.backends.backend_pdf import PdfPages\n",
    "import matplotlib.pyplot as plt\n",
    "from textwrap import wrap"
   ]
  },
  {
   "cell_type": "code",
   "execution_count": 2,
   "metadata": {
    "collapsed": false
   },
   "outputs": [],
   "source": [
    "df = pd.read_excel(\"text_inputs.xlsx\")\n",
    "\n",
    "with PdfPages('invitation.pdf') as pdf:\n",
    "    img = plt.imread(\"birthday_1280.png\")\n",
    "    for i in df['Name']:\n",
    "        fig, ax = plt.subplots(figsize=(8.5, 11))\n",
    "        ax.imshow(img)\n",
    "        plt.subplots_adjust(top=1, bottom = .5)\n",
    "        plt.axis('off')\n",
    "        title = \"\\n\".join(wrap(\"You're Invited {}\".format(i), 40))\n",
    "        fig.text(0.1,.5, title, fontsize=24, verticalalignment='top')\n",
    "        pdf.savefig() \n",
    "        plt.close()"
   ]
  },
  {
   "cell_type": "code",
   "execution_count": null,
   "metadata": {
    "collapsed": true
   },
   "outputs": [],
   "source": []
  }
 ],
 "metadata": {
  "anaconda-cloud": {},
  "kernelspec": {
   "display_name": "Python [conda env:drei]",
   "language": "python",
   "name": "conda-env-drei-py"
  },
  "language_info": {
   "codemirror_mode": {
    "name": "ipython",
    "version": 3
   },
   "file_extension": ".py",
   "mimetype": "text/x-python",
   "name": "python",
   "nbconvert_exporter": "python",
   "pygments_lexer": "ipython3",
   "version": "3.5.2"
  }
 },
 "nbformat": 4,
 "nbformat_minor": 2
}
