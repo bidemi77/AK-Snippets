{
 "cells": [
  {
   "cell_type": "code",
   "execution_count": 6,
   "metadata": {
    "collapsed": true
   },
   "outputs": [],
   "source": [
    "import pandas as pd\n",
    "import numpy as np"
   ]
  },
  {
   "cell_type": "code",
   "execution_count": 7,
   "metadata": {
    "collapsed": false
   },
   "outputs": [],
   "source": [
    "np.random.seed(0)\n",
    "df = pd.read_csv('numerai_training_data.csv', header=0)"
   ]
  },
  {
   "cell_type": "code",
   "execution_count": 4,
   "metadata": {
    "collapsed": false
   },
   "outputs": [
    {
     "data": {
      "text/html": [
       "<div>\n",
       "<table border=\"1\" class=\"dataframe\">\n",
       "  <thead>\n",
       "    <tr style=\"text-align: right;\">\n",
       "      <th></th>\n",
       "      <th>id</th>\n",
       "      <th>era</th>\n",
       "      <th>data_type</th>\n",
       "      <th>feature1</th>\n",
       "      <th>feature2</th>\n",
       "      <th>feature3</th>\n",
       "      <th>feature4</th>\n",
       "      <th>feature5</th>\n",
       "      <th>feature6</th>\n",
       "      <th>feature7</th>\n",
       "      <th>...</th>\n",
       "      <th>feature13</th>\n",
       "      <th>feature14</th>\n",
       "      <th>feature15</th>\n",
       "      <th>feature16</th>\n",
       "      <th>feature17</th>\n",
       "      <th>feature18</th>\n",
       "      <th>feature19</th>\n",
       "      <th>feature20</th>\n",
       "      <th>feature21</th>\n",
       "      <th>target</th>\n",
       "    </tr>\n",
       "  </thead>\n",
       "  <tbody>\n",
       "    <tr>\n",
       "      <th>0</th>\n",
       "      <td>44885</td>\n",
       "      <td>era1</td>\n",
       "      <td>train</td>\n",
       "      <td>0.48082</td>\n",
       "      <td>0.50443</td>\n",
       "      <td>0.64472</td>\n",
       "      <td>0.42563</td>\n",
       "      <td>0.36493</td>\n",
       "      <td>0.43412</td>\n",
       "      <td>0.59584</td>\n",
       "      <td>...</td>\n",
       "      <td>0.38062</td>\n",
       "      <td>0.69552</td>\n",
       "      <td>0.60017</td>\n",
       "      <td>0.36811</td>\n",
       "      <td>0.61011</td>\n",
       "      <td>0.64667</td>\n",
       "      <td>0.57433</td>\n",
       "      <td>0.49981</td>\n",
       "      <td>0.45062</td>\n",
       "      <td>0</td>\n",
       "    </tr>\n",
       "    <tr>\n",
       "      <th>1</th>\n",
       "      <td>128624</td>\n",
       "      <td>era1</td>\n",
       "      <td>train</td>\n",
       "      <td>0.29881</td>\n",
       "      <td>0.48132</td>\n",
       "      <td>0.74775</td>\n",
       "      <td>0.35139</td>\n",
       "      <td>0.34590</td>\n",
       "      <td>0.59582</td>\n",
       "      <td>0.47218</td>\n",
       "      <td>...</td>\n",
       "      <td>0.25399</td>\n",
       "      <td>0.69524</td>\n",
       "      <td>0.54931</td>\n",
       "      <td>0.24025</td>\n",
       "      <td>0.73879</td>\n",
       "      <td>0.74283</td>\n",
       "      <td>0.46221</td>\n",
       "      <td>0.61501</td>\n",
       "      <td>0.44855</td>\n",
       "      <td>0</td>\n",
       "    </tr>\n",
       "    <tr>\n",
       "      <th>2</th>\n",
       "      <td>25226</td>\n",
       "      <td>era1</td>\n",
       "      <td>train</td>\n",
       "      <td>0.35476</td>\n",
       "      <td>0.55320</td>\n",
       "      <td>0.72901</td>\n",
       "      <td>0.41842</td>\n",
       "      <td>0.30004</td>\n",
       "      <td>0.50967</td>\n",
       "      <td>0.58637</td>\n",
       "      <td>...</td>\n",
       "      <td>0.28310</td>\n",
       "      <td>0.76956</td>\n",
       "      <td>0.64866</td>\n",
       "      <td>0.29443</td>\n",
       "      <td>0.70038</td>\n",
       "      <td>0.72421</td>\n",
       "      <td>0.53198</td>\n",
       "      <td>0.51801</td>\n",
       "      <td>0.38804</td>\n",
       "      <td>1</td>\n",
       "    </tr>\n",
       "  </tbody>\n",
       "</table>\n",
       "<p>3 rows × 25 columns</p>\n",
       "</div>"
      ],
      "text/plain": [
       "       id   era data_type  feature1  feature2  feature3  feature4  feature5  \\\n",
       "0   44885  era1     train   0.48082   0.50443   0.64472   0.42563   0.36493   \n",
       "1  128624  era1     train   0.29881   0.48132   0.74775   0.35139   0.34590   \n",
       "2   25226  era1     train   0.35476   0.55320   0.72901   0.41842   0.30004   \n",
       "\n",
       "   feature6  feature7   ...    feature13  feature14  feature15  feature16  \\\n",
       "0   0.43412   0.59584   ...      0.38062    0.69552    0.60017    0.36811   \n",
       "1   0.59582   0.47218   ...      0.25399    0.69524    0.54931    0.24025   \n",
       "2   0.50967   0.58637   ...      0.28310    0.76956    0.64866    0.29443   \n",
       "\n",
       "   feature17  feature18  feature19  feature20  feature21  target  \n",
       "0    0.61011    0.64667    0.57433    0.49981    0.45062       0  \n",
       "1    0.73879    0.74283    0.46221    0.61501    0.44855       0  \n",
       "2    0.70038    0.72421    0.53198    0.51801    0.38804       1  \n",
       "\n",
       "[3 rows x 25 columns]"
      ]
     },
     "execution_count": 4,
     "metadata": {},
     "output_type": "execute_result"
    }
   ],
   "source": [
    "df.head(3)"
   ]
  },
  {
   "cell_type": "code",
   "execution_count": null,
   "metadata": {
    "collapsed": true
   },
   "outputs": [],
   "source": [
    "# Feature selection\n",
    "drop_elements = ['PassengerId', 'Name', 'Ticket', 'Cabin', 'SibSp']\n",
    "train = train.drop(drop_elements, axis = 1)"
   ]
  }
 ],
 "metadata": {
  "anaconda-cloud": {},
  "kernelspec": {
   "display_name": "Python [default]",
   "language": "python",
   "name": "python3"
  },
  "language_info": {
   "codemirror_mode": {
    "name": "ipython",
    "version": 3
   },
   "file_extension": ".py",
   "mimetype": "text/x-python",
   "name": "python",
   "nbconvert_exporter": "python",
   "pygments_lexer": "ipython3",
   "version": "3.5.2"
  }
 },
 "nbformat": 4,
 "nbformat_minor": 2
}
