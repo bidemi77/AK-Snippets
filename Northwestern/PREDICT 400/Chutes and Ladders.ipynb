{
 "cells": [
  {
   "cell_type": "markdown",
   "metadata": {},
   "source": [
    "# Chutes and Ladders\n",
    "\n",
    "I read an article by Joel Smith about probabilities related to the popular children's board game, Chutes and Ladders. He specifically looked at how many turns it takes to complete a game for a given number of players. To perform this analysis, Smith used Markov Chains and Minitab software. I am using Monte Carlo simulation and Python to see how closely I can get to his results.\n",
    "\n",
    "Smith, J. (2016, April 01). What Are the Odds? Chutes and Ladders. Retrieved July 10, 2017, from http://blog.minitab.com/blog/fun-with-statistics/what-are-the-odds-chutes-and-ladders"
   ]
  },
  {
   "cell_type": "code",
   "execution_count": 1,
   "metadata": {
    "collapsed": false
   },
   "outputs": [],
   "source": [
    "import random\n",
    "import pandas as pd\n",
    "\n",
    "# Set my random number generator seed to reproduce results\n",
    "random.seed(9655)"
   ]
  },
  {
   "cell_type": "markdown",
   "metadata": {},
   "source": [
    "## Movement on the Board\n",
    "\n",
    "I first need a function for how pieces move on the board. The player first spins to see how many spaces to move. Normally, the player just moves that many spaces, but if the player gets a chute or ladder, they get moved to a predetermined space. Finally, if the resulting space is past the final spot (100), then the player does not move. "
   ]
  },
  {
   "cell_type": "code",
   "execution_count": 2,
   "metadata": {
    "collapsed": true
   },
   "outputs": [],
   "source": [
    "# Function for movement based on the starting position and what value the player gets from the spinner\n",
    "def move(start, spin):\n",
    "    new_pos = start + spin\n",
    "    if new_pos == 1:\n",
    "        final_pos = 38\n",
    "    elif new_pos == 4:\n",
    "        final_pos = 14\n",
    "    elif new_pos == 9:\n",
    "        final_pos = 31\n",
    "    elif new_pos == 16:\n",
    "        final_pos = 6\n",
    "    elif new_pos == 21:\n",
    "        final_pos = 42\n",
    "    elif new_pos == 28:\n",
    "        final_pos = 84\n",
    "    elif new_pos == 36:\n",
    "        final_pos = 44\n",
    "    elif new_pos == 48:\n",
    "        final_pos = 26\n",
    "    elif new_pos == 49:\n",
    "        final_pos = 11\n",
    "    elif new_pos == 51:\n",
    "        final_pos = 67\n",
    "    elif new_pos == 56:\n",
    "        final_pos = 53\n",
    "    elif new_pos == 62:\n",
    "        final_pos = 19\n",
    "    elif new_pos == 64:\n",
    "        final_pos = 60\n",
    "    elif new_pos == 71:\n",
    "        final_pos = 91\n",
    "    elif new_pos == 80:\n",
    "        final_pos = 100\n",
    "    elif new_pos == 87:\n",
    "        final_pos = 24\n",
    "    elif new_pos == 93:\n",
    "        final_pos = 73\n",
    "    elif new_pos == 95:\n",
    "        final_pos = 75\n",
    "    elif new_pos == 98:\n",
    "        final_pos = 78\n",
    "    elif new_pos > 100:\n",
    "        final_pos = start\n",
    "    else:\n",
    "        final_pos = new_pos\n",
    "    return final_pos"
   ]
  },
  {
   "cell_type": "markdown",
   "metadata": {},
   "source": [
    "## Simulating a Game\n",
    "\n",
    "Next, I need a function to simulate a single game and return the number of turns required to complete it. The first step is to place all of the pieces at the starting spot. After that, I loop through turns until a player wins using random number generation. It is possible although unlikely for the game to keep going in an endless loop. To prevent this, I have capped the number of turns at 1,000."
   ]
  },
  {
   "cell_type": "code",
   "execution_count": 3,
   "metadata": {
    "collapsed": false,
    "scrolled": true
   },
   "outputs": [],
   "source": [
    "# Function to simulate a single game and return the number of tunrs that it took to complete the game\n",
    "# Players - number of players (2-4 recommended)\n",
    "# Start - starting square (final square is always 100)\n",
    "# Slices - number of slices on the spinner with equal probability\n",
    "def game(players, start=0, slices=6):\n",
    "    \n",
    "    # Starting state at the starting square\n",
    "    game_state = {}\n",
    "    turn = 0\n",
    "    exitflag = False\n",
    "    for player in range(players):\n",
    "        game_state[player] = start\n",
    "    \n",
    "    # Go through turns with a maximum number of 1000 turns to avoid an endless loop\n",
    "    while True:\n",
    "        turn = turn + 1\n",
    "        if turn == 1000:\n",
    "            break\n",
    "        for player in range(players):\n",
    "            game_state[player] = move(game_state[player], random.randrange(1,slices+1)) \n",
    "            if game_state[player] == 100:\n",
    "                exitflag = True\n",
    "        if exitflag:\n",
    "            break       \n",
    "    return turn"
   ]
  },
  {
   "cell_type": "markdown",
   "metadata": {},
   "source": [
    "## Simulate Many Games\n",
    "\n",
    "I want to compare the point estimates shown in the article for 1 to 4 players. To approximate the results with simulation, I will use 100,000 iterations. I do not expect the simulated results to match the theoretical exactly but it should be close. As the number of simulations increase, then the difference should decrease."
   ]
  },
  {
   "cell_type": "code",
   "execution_count": 4,
   "metadata": {
    "collapsed": false
   },
   "outputs": [
    {
     "name": "stdout",
     "output_type": "stream",
     "text": [
      "For 1 Player(s):\n",
      "Minimum of 7 turns to complete the game\n",
      "With a probability of 0.00147\n",
      "90% of player-games will finish before turn 73.0\n",
      "95% of player-games will finish before turn 90.0\n",
      "99% of player-games will finish before turn 128.0\n",
      "Median of 33.0 turns to complete the game\n",
      "Mean of 39.5 turns to complete the game\n",
      "...\n",
      "For 2 Player(s):\n",
      "Minimum of 7 turns to complete the game\n",
      "With a probability of 0.00321\n",
      "90% of player-games will finish before turn 44.0\n",
      "95% of player-games will finish before turn 53.0\n",
      "99% of player-games will finish before turn 73.0\n",
      "Median of 23.0 turns to complete the game\n",
      "Mean of 26.5 turns to complete the game\n",
      "...\n",
      "For 3 Player(s):\n",
      "Minimum of 7 turns to complete the game\n",
      "With a probability of 0.0048\n",
      "90% of player-games will finish before turn 35.0\n",
      "95% of player-games will finish before turn 40.0\n",
      "99% of player-games will finish before turn 53.0\n",
      "Median of 20.0 turns to complete the game\n",
      "Mean of 21.7 turns to complete the game\n",
      "...\n",
      "For 4 Player(s):\n",
      "Minimum of 7 turns to complete the game\n",
      "With a probability of 0.00627\n",
      "90% of player-games will finish before turn 30.0\n",
      "95% of player-games will finish before turn 34.0\n",
      "99% of player-games will finish before turn 44.0\n",
      "Median of 18.0 turns to complete the game\n",
      "Mean of 19.4 turns to complete the game\n",
      "...\n"
     ]
    }
   ],
   "source": [
    "# Simulate many games\n",
    "sims = 100000\n",
    "\n",
    "for j in [1,2,3,4]:\n",
    "    games = {}\n",
    "    for i in range(sims):\n",
    "        games[i] = game(j)\n",
    "    df = pd.DataFrame.from_dict(games, orient='index')\n",
    "    df.columns = ['Turns']\n",
    "    print(\"For {} Player(s):\".format(j))\n",
    "    print(\"Minimum of {} turns to complete the game\".format(df['Turns'].min()))\n",
    "    print(\"With a probability of {}\".format(len(df[df['Turns']==df['Turns'].min()])/sims))\n",
    "    print(\"90% of player-games will finish before turn {}\".format(round(df.quantile(.9).values[0],0)))\n",
    "    print(\"95% of player-games will finish before turn {}\".format(round(df.quantile(.95).values[0],0)))\n",
    "    print(\"99% of player-games will finish before turn {}\".format(round(df.quantile(.99).values[0],0)))\n",
    "    print(\"Median of {} turns to complete the game\".format(df['Turns'].median()))\n",
    "    print(\"Mean of {} turns to complete the game\".format(round(df['Turns'].mean(),1)))\n",
    "    print(\"...\")"
   ]
  },
  {
   "cell_type": "markdown",
   "metadata": {},
   "source": [
    "## Conclusions\n",
    "\n",
    "My results are close to those in the article. I was surprised that even with 100,000 simulations, the mean was not closer to the Markov Chain results. My next move should be learning how to replicate the Markov Chain results themselves. \n",
    "\n",
    "Like Smith says, there is really no in-game advantage to understanding the statistics only that adding more players speeds up the game. "
   ]
  },
  {
   "cell_type": "code",
   "execution_count": null,
   "metadata": {
    "collapsed": true
   },
   "outputs": [],
   "source": []
  }
 ],
 "metadata": {
  "anaconda-cloud": {},
  "kernelspec": {
   "display_name": "Python [default]",
   "language": "python",
   "name": "python3"
  },
  "language_info": {
   "codemirror_mode": {
    "name": "ipython",
    "version": 3
   },
   "file_extension": ".py",
   "mimetype": "text/x-python",
   "name": "python",
   "nbconvert_exporter": "python",
   "pygments_lexer": "ipython3",
   "version": "3.5.2"
  }
 },
 "nbformat": 4,
 "nbformat_minor": 2
}
